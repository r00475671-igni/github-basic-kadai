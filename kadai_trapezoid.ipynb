{
  "nbformat": 4,
  "nbformat_minor": 0,
  "metadata": {
    "colab": {
      "provenance": [],
      "authorship_tag": "ABX9TyOfvTQ1MePKazCq8VqTOrlj",
      "include_colab_link": true
    },
    "kernelspec": {
      "name": "python3",
      "display_name": "Python 3"
    },
    "language_info": {
      "name": "python"
    }
  },
  "cells": [
    {
      "cell_type": "markdown",
      "metadata": {
        "id": "view-in-github",
        "colab_type": "text"
      },
      "source": [
        "<a href=\"https://colab.research.google.com/github/r00475671-igni/github-basic-kadai/blob/main/kadai_trapezoid.ipynb\" target=\"_parent\"><img src=\"https://colab.research.google.com/assets/colab-badge.svg\" alt=\"Open In Colab\"/></a>"
      ]
    },
    {
      "cell_type": "code",
      "execution_count": 8,
      "metadata": {
        "colab": {
          "base_uri": "https://localhost:8080/"
        },
        "id": "TYlBSp0O3ZSe",
        "outputId": "1272ea3a-c241-4dae-d8b8-8c41bc086a8f"
      },
      "outputs": [
        {
          "output_type": "stream",
          "name": "stdout",
          "text": [
            "上辺 10 cm\n",
            "下辺 20 cm\n",
            "高さ 5 cm\n",
            "公式：台形の面積＝（上辺＋下辺） × 高さ ÷ ２\n",
            "台形の面積：75.0 cm²\n"
          ]
        }
      ],
      "source": [
        "upper_base = 10\n",
        "bottom_base = 20\n",
        "height = 5\n",
        "\n",
        "area = (upper_base + bottom_base) * height / 2\n",
        "\n",
        "print(f\"上辺 {upper_base} cm\")\n",
        "print(f\"下辺 {bottom_base} cm\")\n",
        "print(f\"高さ {height} cm\")\n",
        "\n",
        "\n",
        "\n",
        "print(\"公式：台形の面積＝（上辺＋下辺） × 高さ ÷ ２\")\n",
        "\n",
        "print(f\"台形の面積：{area} cm²\")\n"
      ]
    },
    {
      "cell_type": "code",
      "source": [],
      "metadata": {
        "id": "5wSwX5VM5J7w"
      },
      "execution_count": null,
      "outputs": []
    }
  ]
}